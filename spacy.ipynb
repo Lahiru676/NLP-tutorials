{
 "cells": [
  {
   "cell_type": "code",
   "execution_count": 1,
   "id": "a6b57600-ad1a-4f36-abca-e48df49afc60",
   "metadata": {},
   "outputs": [
    {
     "name": "stdout",
     "output_type": "stream",
     "text": [
      "dqd\n"
     ]
    }
   ],
   "source": [
    "print('dqd')"
   ]
  },
  {
   "cell_type": "code",
   "execution_count": 1,
   "id": "ee17e11f-efc5-46bf-a718-655e8ba47441",
   "metadata": {},
   "outputs": [],
   "source": [
    "import spacy\n"
   ]
  },
  {
   "cell_type": "markdown",
   "id": "3a79d38a",
   "metadata": {},
   "source": [
    "This is sentence talknization in spacy"
   ]
  },
  {
   "cell_type": "code",
   "execution_count": 5,
   "id": "cbe88e60-83a3-4e32-844b-82b1a442bc09",
   "metadata": {},
   "outputs": [
    {
     "name": "stdout",
     "output_type": "stream",
     "text": [
      "Apple is looking at buying U.K. startup for $1 billion.\n",
      "I love my mother\n"
     ]
    }
   ],
   "source": [
    "nlp = spacy.load('en_core_web_sm')\n",
    "\n",
    "doc = nlp(\"Apple is looking at buying U.K. startup for $1 billion.I love my mother\")\n",
    "for Sentence in doc.sents:\n",
    "    print(Sentence)"
   ]
  },
  {
   "cell_type": "code",
   "execution_count": 7,
   "id": "4ee189a4",
   "metadata": {},
   "outputs": [
    {
     "name": "stdout",
     "output_type": "stream",
     "text": [
      "Apple\n",
      "is\n",
      "looking\n",
      "at\n",
      "buying\n",
      "U.K.\n",
      "startup\n",
      "for\n",
      "$\n",
      "1\n",
      "billion\n",
      ".\n",
      "I\n",
      "love\n",
      "my\n",
      "mother\n"
     ]
    }
   ],
   "source": [
    "for Sentence in doc.sents:\n",
    "    for word in Sentence:\n",
    "        print( word)"
   ]
  },
  {
   "cell_type": "code",
   "execution_count": 10,
   "id": "f70c795a",
   "metadata": {},
   "outputs": [
    {
     "name": "stdout",
     "output_type": "stream",
     "text": [
      "Requirement already satisfied: numpy in c:\\users\\lahiru\\appdata\\local\\programs\\python\\python312\\lib\\site-packages (2.0.2)\n",
      "Collecting numpy\n",
      "  Using cached numpy-2.1.2-cp312-cp312-win_amd64.whl.metadata (59 kB)\n",
      "Using cached numpy-2.1.2-cp312-cp312-win_amd64.whl (12.6 MB)\n",
      "Installing collected packages: numpy\n",
      "  Attempting uninstall: numpy\n",
      "    Found existing installation: numpy 2.0.2\n",
      "    Uninstalling numpy-2.0.2:\n",
      "      Successfully uninstalled numpy-2.0.2\n",
      "Successfully installed numpy-2.1.2\n"
     ]
    },
    {
     "name": "stderr",
     "output_type": "stream",
     "text": [
      "  WARNING: Failed to remove contents in a temporary directory 'C:\\Users\\Lahiru\\AppData\\Local\\Programs\\Python\\Python312\\Lib\\site-packages\\~umpy.libs'.\n",
      "  You can safely remove it manually.\n",
      "  WARNING: Failed to remove contents in a temporary directory 'C:\\Users\\Lahiru\\AppData\\Local\\Programs\\Python\\Python312\\Lib\\site-packages\\~umpy'.\n",
      "  You can safely remove it manually.\n",
      "ERROR: pip's dependency resolver does not currently take into account all the packages that are installed. This behaviour is the source of the following dependency conflicts.\n",
      "contourpy 1.2.0 requires numpy<2.0,>=1.20, but you have numpy 2.1.2 which is incompatible.\n",
      "matplotlib 3.8.3 requires numpy<2,>=1.21, but you have numpy 2.1.2 which is incompatible.\n",
      "pandas 2.2.0 requires numpy<2,>=1.26.0; python_version >= \"3.12\", but you have numpy 2.1.2 which is incompatible.\n",
      "scikit-learn 1.4.0 requires numpy<2.0,>=1.19.5, but you have numpy 2.1.2 which is incompatible.\n",
      "scipy 1.12.0 requires numpy<1.29.0,>=1.22.4, but you have numpy 2.1.2 which is incompatible.\n",
      "tensorflow-intel 2.17.0 requires numpy<2.0.0,>=1.26.0; python_version >= \"3.12\", but you have numpy 2.1.2 which is incompatible.\n",
      "thinc 8.3.2 requires numpy<2.1.0,>=2.0.0; python_version >= \"3.9\", but you have numpy 2.1.2 which is incompatible.\n",
      "\n",
      "[notice] A new release of pip is available: 24.1 -> 24.2\n",
      "[notice] To update, run: python.exe -m pip install --upgrade pip\n"
     ]
    }
   ],
   "source": [
    "!pip install --upgrade numpy"
   ]
  },
  {
   "cell_type": "code",
   "execution_count": 24,
   "id": "ec5e5e59",
   "metadata": {},
   "outputs": [],
   "source": [
    "doc = nlp('lahiru gave me $50 to kamal')"
   ]
  },
  {
   "cell_type": "code",
   "execution_count": 25,
   "id": "f014ce04",
   "metadata": {},
   "outputs": [],
   "source": [
    "token0 = doc[0]"
   ]
  },
  {
   "cell_type": "code",
   "execution_count": 26,
   "id": "c75826cd",
   "metadata": {},
   "outputs": [
    {
     "data": {
      "text/plain": [
       "lahiru"
      ]
     },
     "execution_count": 26,
     "metadata": {},
     "output_type": "execute_result"
    }
   ],
   "source": [
    "token0"
   ]
  },
  {
   "cell_type": "code",
   "execution_count": 27,
   "id": "7b5ec815",
   "metadata": {},
   "outputs": [
    {
     "data": {
      "text/plain": [
       "spacy.tokens.token.Token"
      ]
     },
     "execution_count": 27,
     "metadata": {},
     "output_type": "execute_result"
    }
   ],
   "source": [
    "type(token0)"
   ]
  },
  {
   "cell_type": "code",
   "execution_count": 53,
   "id": "2611eb2c",
   "metadata": {},
   "outputs": [
    {
     "data": {
      "text/plain": [
       "['_',\n",
       " '__bytes__',\n",
       " '__class__',\n",
       " '__delattr__',\n",
       " '__dir__',\n",
       " '__doc__',\n",
       " '__eq__',\n",
       " '__format__',\n",
       " '__ge__',\n",
       " '__getattribute__',\n",
       " '__getstate__',\n",
       " '__gt__',\n",
       " '__hash__',\n",
       " '__init__',\n",
       " '__init_subclass__',\n",
       " '__le__',\n",
       " '__len__',\n",
       " '__lt__',\n",
       " '__ne__',\n",
       " '__new__',\n",
       " '__pyx_vtable__',\n",
       " '__reduce__',\n",
       " '__reduce_ex__',\n",
       " '__repr__',\n",
       " '__setattr__',\n",
       " '__sizeof__',\n",
       " '__str__',\n",
       " '__subclasshook__',\n",
       " '__unicode__',\n",
       " 'ancestors',\n",
       " 'check_flag',\n",
       " 'children',\n",
       " 'cluster',\n",
       " 'conjuncts',\n",
       " 'dep',\n",
       " 'dep_',\n",
       " 'doc',\n",
       " 'ent_id',\n",
       " 'ent_id_',\n",
       " 'ent_iob',\n",
       " 'ent_iob_',\n",
       " 'ent_kb_id',\n",
       " 'ent_kb_id_',\n",
       " 'ent_type',\n",
       " 'ent_type_',\n",
       " 'get_extension',\n",
       " 'has_dep',\n",
       " 'has_extension',\n",
       " 'has_head',\n",
       " 'has_morph',\n",
       " 'has_vector',\n",
       " 'head',\n",
       " 'i',\n",
       " 'idx',\n",
       " 'iob_strings',\n",
       " 'is_alpha',\n",
       " 'is_ancestor',\n",
       " 'is_ascii',\n",
       " 'is_bracket',\n",
       " 'is_currency',\n",
       " 'is_digit',\n",
       " 'is_left_punct',\n",
       " 'is_lower',\n",
       " 'is_oov',\n",
       " 'is_punct',\n",
       " 'is_quote',\n",
       " 'is_right_punct',\n",
       " 'is_sent_end',\n",
       " 'is_sent_start',\n",
       " 'is_space',\n",
       " 'is_stop',\n",
       " 'is_title',\n",
       " 'is_upper',\n",
       " 'lang',\n",
       " 'lang_',\n",
       " 'left_edge',\n",
       " 'lefts',\n",
       " 'lemma',\n",
       " 'lemma_',\n",
       " 'lex',\n",
       " 'lex_id',\n",
       " 'like_email',\n",
       " 'like_num',\n",
       " 'like_url',\n",
       " 'lower',\n",
       " 'lower_',\n",
       " 'morph',\n",
       " 'n_lefts',\n",
       " 'n_rights',\n",
       " 'nbor',\n",
       " 'norm',\n",
       " 'norm_',\n",
       " 'orth',\n",
       " 'orth_',\n",
       " 'pos',\n",
       " 'pos_',\n",
       " 'prefix',\n",
       " 'prefix_',\n",
       " 'prob',\n",
       " 'rank',\n",
       " 'remove_extension',\n",
       " 'right_edge',\n",
       " 'rights',\n",
       " 'sent',\n",
       " 'sent_start',\n",
       " 'sentiment',\n",
       " 'set_extension',\n",
       " 'set_morph',\n",
       " 'shape',\n",
       " 'shape_',\n",
       " 'similarity',\n",
       " 'subtree',\n",
       " 'suffix',\n",
       " 'suffix_',\n",
       " 'tag',\n",
       " 'tag_',\n",
       " 'tensor',\n",
       " 'text',\n",
       " 'text_with_ws',\n",
       " 'vector',\n",
       " 'vector_norm',\n",
       " 'vocab',\n",
       " 'whitespace_']"
      ]
     },
     "execution_count": 53,
     "metadata": {},
     "output_type": "execute_result"
    }
   ],
   "source": [
    "dir(token0)"
   ]
  },
  {
   "cell_type": "code",
   "execution_count": 32,
   "id": "c71d42cb",
   "metadata": {},
   "outputs": [
    {
     "name": "stdout",
     "output_type": "stream",
     "text": [
      "lahiru ===> index: 0 is_alpha: True is_punct: False like_num: False is_currency: False\n",
      "gave ===> index: 1 is_alpha: True is_punct: False like_num: False is_currency: False\n",
      "me ===> index: 2 is_alpha: True is_punct: False like_num: False is_currency: False\n",
      "$ ===> index: 3 is_alpha: False is_punct: False like_num: False is_currency: True\n",
      "50 ===> index: 4 is_alpha: False is_punct: False like_num: True is_currency: False\n",
      "to ===> index: 5 is_alpha: True is_punct: False like_num: False is_currency: False\n",
      "kamal ===> index: 6 is_alpha: True is_punct: False like_num: False is_currency: False\n"
     ]
    }
   ],
   "source": [
    "for token in doc:\n",
    "    print(token,\"===>\",\"index:\",token.i,\n",
    "          'is_alpha:',token.is_alpha,\n",
    "          'is_punct:',token.like_email,\n",
    "          'like_num:',token.like_num,\n",
    "          'is_currency:',token.is_currency,)"
   ]
  },
  {
   "cell_type": "code",
   "execution_count": 34,
   "id": "fe23b997",
   "metadata": {},
   "outputs": [
    {
     "data": {
      "text/plain": [
       "['lahiru', 'gave', 'me', '$', '50', 'to', 'kamal']"
      ]
     },
     "execution_count": 34,
     "metadata": {},
     "output_type": "execute_result"
    }
   ],
   "source": [
    "tokens = [token.text for token in doc]\n",
    "tokens"
   ]
  },
  {
   "cell_type": "markdown",
   "id": "f5547a24",
   "metadata": {},
   "source": [
    "Adding special rule for tolenizer"
   ]
  },
  {
   "cell_type": "code",
   "execution_count": 35,
   "id": "682af765",
   "metadata": {},
   "outputs": [
    {
     "data": {
      "text/plain": [
       "['lahiru', 'gave', 'me', '$', '50', 'to', 'ka', 'mal']"
      ]
     },
     "execution_count": 35,
     "metadata": {},
     "output_type": "execute_result"
    }
   ],
   "source": [
    "from spacy.symbols import ORTH\n",
    "nlp.tokenizer.add_special_case('kamal',[{ORTH:\"ka\"},{ORTH:\"mal\"}])\n",
    "\n",
    "doc = nlp('lahiru gave me $50 to kamal')\n",
    "tokens = [token.text for token in doc]\n",
    "tokens  "
   ]
  },
  {
   "cell_type": "code",
   "execution_count": 36,
   "id": "3616613c",
   "metadata": {},
   "outputs": [],
   "source": [
    "text='''\n",
    "Look for data to help you address the question. Governments are good\n",
    "sources because data from public research is often freely available. Good\n",
    "places to start include http://www.data.gov/, and http://www.science.\n",
    "gov/, and in the United Kingdom, http://data.gov.uk/.\n",
    "Two of my favorite data sets are the General Social Survey at http://www3.norc.org/gss+website/, \n",
    "and the European Social Survey at http://www.europeansocialsurvey.org/.\n",
    "'''\n"
   ]
  },
  {
   "cell_type": "code",
   "execution_count": 46,
   "id": "07043603",
   "metadata": {},
   "outputs": [
    {
     "name": "stdout",
     "output_type": "stream",
     "text": [
      "['http://www.data.gov/', 'http://www.science', 'http://data.gov.uk/.', 'http://www3.norc.org/gss+website/', 'http://www.europeansocialsurvey.org/.']\n"
     ]
    }
   ],
   "source": [
    "token = nlp(text)\n",
    "url = []\n",
    "for token in token:\n",
    "    if token.like_url:\n",
    "     url.append(token.text)\n",
    "print(url)"
   ]
  },
  {
   "cell_type": "code",
   "execution_count": 47,
   "id": "ace9ae07",
   "metadata": {},
   "outputs": [],
   "source": [
    "transactions = \"Tony gave two $ to Peter, Bruce gave 500 € to Steve\""
   ]
  },
  {
   "cell_type": "code",
   "execution_count": 70,
   "id": "8ee9fe0e",
   "metadata": {},
   "outputs": [
    {
     "name": "stdout",
     "output_type": "stream",
     "text": [
      "two $\n",
      "500 €\n"
     ]
    }
   ],
   "source": [
    "tokens = nlp(transactions)\n",
    "\n",
    "for token in tokens:\n",
    "    if token.like_num and tokens[token.i+1].is_currency:\n",
    "        print(token.text,tokens[token.i+1].text)    "
   ]
  },
  {
   "cell_type": "code",
   "execution_count": 74,
   "id": "97b8e993",
   "metadata": {},
   "outputs": [],
   "source": [
    "nlp = spacy.load(\"en_core_web_sm\")"
   ]
  },
  {
   "cell_type": "markdown",
   "id": "d10cf7d2",
   "metadata": {},
   "source": [
    "Pipline"
   ]
  },
  {
   "cell_type": "code",
   "execution_count": 75,
   "id": "dd69b42f",
   "metadata": {},
   "outputs": [
    {
     "data": {
      "text/plain": [
       "['tok2vec', 'tagger', 'parser', 'attribute_ruler', 'lemmatizer', 'ner']"
      ]
     },
     "execution_count": 75,
     "metadata": {},
     "output_type": "execute_result"
    }
   ],
   "source": [
    "nlp.pipe_names"
   ]
  },
  {
   "cell_type": "code",
   "execution_count": 76,
   "id": "b68eee86",
   "metadata": {},
   "outputs": [
    {
     "data": {
      "text/plain": [
       "[('tok2vec', <spacy.pipeline.tok2vec.Tok2Vec at 0x27aac4c3ad0>),\n",
       " ('tagger', <spacy.pipeline.tagger.Tagger at 0x27ab45d4bf0>),\n",
       " ('parser', <spacy.pipeline.dep_parser.DependencyParser at 0x27ab4300430>),\n",
       " ('attribute_ruler',\n",
       "  <spacy.pipeline.attributeruler.AttributeRuler at 0x27ab03213d0>),\n",
       " ('lemmatizer', <spacy.lang.en.lemmatizer.EnglishLemmatizer at 0x27ab0363c90>),\n",
       " ('ner', <spacy.pipeline.ner.EntityRecognizer at 0x27ab4300ba0>)]"
      ]
     },
     "execution_count": 76,
     "metadata": {},
     "output_type": "execute_result"
    }
   ],
   "source": [
    "nlp.pipeline"
   ]
  },
  {
   "cell_type": "code",
   "execution_count": 77,
   "id": "aba82792",
   "metadata": {},
   "outputs": [],
   "source": [
    "nlp = spacy.blank(\"en\") \n",
    "doc = nlp(\"I am a runner running in a race because I love to run since I ran today\")\n",
    "\n",
    "for ent in doc.ents:\n",
    "    print(ent.text, '|',ent.label_,'|',spacy.explain(ent.label_))"
   ]
  },
  {
   "cell_type": "code",
   "execution_count": 90,
   "id": "5a86884b",
   "metadata": {},
   "outputs": [
    {
     "data": {
      "text/plain": [
       "['ner']"
      ]
     },
     "execution_count": 90,
     "metadata": {},
     "output_type": "execute_result"
    }
   ],
   "source": [
    "source_nlp = spacy.load(\"en_core_web_sm\")\n",
    "nlp = spacy.blank(\"en\")#blank pipeline\n",
    "\n",
    "nlp.add_pipe(\"ner\",source = source_nlp)#add pipline\n",
    "nlp.pipe_names\n",
    "\n"
   ]
  },
  {
   "cell_type": "code",
   "execution_count": 89,
   "id": "8858fe31",
   "metadata": {},
   "outputs": [
    {
     "name": "stdout",
     "output_type": "stream",
     "text": [
      "Tesla | ORG | Companies, agencies, institutions, etc.\n",
      "50 years old | DATE | Absolute or relative dates or periods\n",
      "45$ | MONEY | Monetary values, including unit\n"
     ]
    }
   ],
   "source": [
    " \n",
    "doc = nlp(\"Tesla is 50 years old it has 45$ fund\")\n",
    "\n",
    "for ent in doc.ents:\n",
    "    print(ent.text, '|',ent.label_,'|',spacy.explain(ent.label_))"
   ]
  }
 ],
 "metadata": {
  "kernelspec": {
   "display_name": "Python 3",
   "language": "python",
   "name": "python3"
  },
  "language_info": {
   "codemirror_mode": {
    "name": "ipython",
    "version": 3
   },
   "file_extension": ".py",
   "mimetype": "text/x-python",
   "name": "python",
   "nbconvert_exporter": "python",
   "pygments_lexer": "ipython3",
   "version": "3.12.4"
  }
 },
 "nbformat": 4,
 "nbformat_minor": 5
}
